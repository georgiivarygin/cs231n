{
  "nbformat": 4,
  "nbformat_minor": 0,
  "metadata": {
    "colab": {
      "name": "svm.ipynb",
      "provenance": [],
      "collapsed_sections": [],
      "include_colab_link": true
    },
    "language_info": {
      "name": "python"
    },
    "kernelspec": {
      "name": "python3",
      "display_name": "Python 3"
    },
    "widgets": {
      "application/vnd.jupyter.widget-state+json": {
        "cd10139d4f24485c8ba35579ad253d6f": {
          "model_module": "@jupyter-widgets/controls",
          "model_name": "HBoxModel",
          "state": {
            "_view_name": "HBoxView",
            "_dom_classes": [],
            "_model_name": "HBoxModel",
            "_view_module": "@jupyter-widgets/controls",
            "_model_module_version": "1.5.0",
            "_view_count": null,
            "_view_module_version": "1.5.0",
            "box_style": "",
            "layout": "IPY_MODEL_a8f31d0210da4814bf80736f794499b6",
            "_model_module": "@jupyter-widgets/controls",
            "children": [
              "IPY_MODEL_dfba0fcdec6148aab04002360a516f26",
              "IPY_MODEL_2a521a4f388142c788c56160fae0ddf8"
            ]
          }
        },
        "a8f31d0210da4814bf80736f794499b6": {
          "model_module": "@jupyter-widgets/base",
          "model_name": "LayoutModel",
          "state": {
            "_view_name": "LayoutView",
            "grid_template_rows": null,
            "right": null,
            "justify_content": null,
            "_view_module": "@jupyter-widgets/base",
            "overflow": null,
            "_model_module_version": "1.2.0",
            "_view_count": null,
            "flex_flow": null,
            "width": null,
            "min_width": null,
            "border": null,
            "align_items": null,
            "bottom": null,
            "_model_module": "@jupyter-widgets/base",
            "top": null,
            "grid_column": null,
            "overflow_y": null,
            "overflow_x": null,
            "grid_auto_flow": null,
            "grid_area": null,
            "grid_template_columns": null,
            "flex": null,
            "_model_name": "LayoutModel",
            "justify_items": null,
            "grid_row": null,
            "max_height": null,
            "align_content": null,
            "visibility": null,
            "align_self": null,
            "height": null,
            "min_height": null,
            "padding": null,
            "grid_auto_rows": null,
            "grid_gap": null,
            "max_width": null,
            "order": null,
            "_view_module_version": "1.2.0",
            "grid_template_areas": null,
            "object_position": null,
            "object_fit": null,
            "grid_auto_columns": null,
            "margin": null,
            "display": null,
            "left": null
          }
        },
        "dfba0fcdec6148aab04002360a516f26": {
          "model_module": "@jupyter-widgets/controls",
          "model_name": "FloatProgressModel",
          "state": {
            "_view_name": "ProgressView",
            "style": "IPY_MODEL_92e7517427f7458290ea5b29ba785260",
            "_dom_classes": [],
            "description": "100%",
            "_model_name": "FloatProgressModel",
            "bar_style": "success",
            "max": 2,
            "_view_module": "@jupyter-widgets/controls",
            "_model_module_version": "1.5.0",
            "value": 2,
            "_view_count": null,
            "_view_module_version": "1.5.0",
            "orientation": "horizontal",
            "min": 0,
            "description_tooltip": null,
            "_model_module": "@jupyter-widgets/controls",
            "layout": "IPY_MODEL_e986017a0dda4f30810bbf86c482a111"
          }
        },
        "2a521a4f388142c788c56160fae0ddf8": {
          "model_module": "@jupyter-widgets/controls",
          "model_name": "HTMLModel",
          "state": {
            "_view_name": "HTMLView",
            "style": "IPY_MODEL_e65629c47b4f41bd867863688f6665c8",
            "_dom_classes": [],
            "description": "",
            "_model_name": "HTMLModel",
            "placeholder": "​",
            "_view_module": "@jupyter-widgets/controls",
            "_model_module_version": "1.5.0",
            "value": " 2/2 [02:18&lt;00:00, 69.28s/it]",
            "_view_count": null,
            "_view_module_version": "1.5.0",
            "description_tooltip": null,
            "_model_module": "@jupyter-widgets/controls",
            "layout": "IPY_MODEL_40c3f7fb8d8c426d9fd39b24b6cc2bb0"
          }
        },
        "92e7517427f7458290ea5b29ba785260": {
          "model_module": "@jupyter-widgets/controls",
          "model_name": "ProgressStyleModel",
          "state": {
            "_view_name": "StyleView",
            "_model_name": "ProgressStyleModel",
            "description_width": "initial",
            "_view_module": "@jupyter-widgets/base",
            "_model_module_version": "1.5.0",
            "_view_count": null,
            "_view_module_version": "1.2.0",
            "bar_color": null,
            "_model_module": "@jupyter-widgets/controls"
          }
        },
        "e986017a0dda4f30810bbf86c482a111": {
          "model_module": "@jupyter-widgets/base",
          "model_name": "LayoutModel",
          "state": {
            "_view_name": "LayoutView",
            "grid_template_rows": null,
            "right": null,
            "justify_content": null,
            "_view_module": "@jupyter-widgets/base",
            "overflow": null,
            "_model_module_version": "1.2.0",
            "_view_count": null,
            "flex_flow": null,
            "width": null,
            "min_width": null,
            "border": null,
            "align_items": null,
            "bottom": null,
            "_model_module": "@jupyter-widgets/base",
            "top": null,
            "grid_column": null,
            "overflow_y": null,
            "overflow_x": null,
            "grid_auto_flow": null,
            "grid_area": null,
            "grid_template_columns": null,
            "flex": null,
            "_model_name": "LayoutModel",
            "justify_items": null,
            "grid_row": null,
            "max_height": null,
            "align_content": null,
            "visibility": null,
            "align_self": null,
            "height": null,
            "min_height": null,
            "padding": null,
            "grid_auto_rows": null,
            "grid_gap": null,
            "max_width": null,
            "order": null,
            "_view_module_version": "1.2.0",
            "grid_template_areas": null,
            "object_position": null,
            "object_fit": null,
            "grid_auto_columns": null,
            "margin": null,
            "display": null,
            "left": null
          }
        },
        "e65629c47b4f41bd867863688f6665c8": {
          "model_module": "@jupyter-widgets/controls",
          "model_name": "DescriptionStyleModel",
          "state": {
            "_view_name": "StyleView",
            "_model_name": "DescriptionStyleModel",
            "description_width": "",
            "_view_module": "@jupyter-widgets/base",
            "_model_module_version": "1.5.0",
            "_view_count": null,
            "_view_module_version": "1.2.0",
            "_model_module": "@jupyter-widgets/controls"
          }
        },
        "40c3f7fb8d8c426d9fd39b24b6cc2bb0": {
          "model_module": "@jupyter-widgets/base",
          "model_name": "LayoutModel",
          "state": {
            "_view_name": "LayoutView",
            "grid_template_rows": null,
            "right": null,
            "justify_content": null,
            "_view_module": "@jupyter-widgets/base",
            "overflow": null,
            "_model_module_version": "1.2.0",
            "_view_count": null,
            "flex_flow": null,
            "width": null,
            "min_width": null,
            "border": null,
            "align_items": null,
            "bottom": null,
            "_model_module": "@jupyter-widgets/base",
            "top": null,
            "grid_column": null,
            "overflow_y": null,
            "overflow_x": null,
            "grid_auto_flow": null,
            "grid_area": null,
            "grid_template_columns": null,
            "flex": null,
            "_model_name": "LayoutModel",
            "justify_items": null,
            "grid_row": null,
            "max_height": null,
            "align_content": null,
            "visibility": null,
            "align_self": null,
            "height": null,
            "min_height": null,
            "padding": null,
            "grid_auto_rows": null,
            "grid_gap": null,
            "max_width": null,
            "order": null,
            "_view_module_version": "1.2.0",
            "grid_template_areas": null,
            "object_position": null,
            "object_fit": null,
            "grid_auto_columns": null,
            "margin": null,
            "display": null,
            "left": null
          }
        },
        "d57241ff184c488f8c5798e2d531dbc7": {
          "model_module": "@jupyter-widgets/controls",
          "model_name": "HBoxModel",
          "state": {
            "_view_name": "HBoxView",
            "_dom_classes": [],
            "_model_name": "HBoxModel",
            "_view_module": "@jupyter-widgets/controls",
            "_model_module_version": "1.5.0",
            "_view_count": null,
            "_view_module_version": "1.5.0",
            "box_style": "",
            "layout": "IPY_MODEL_f6993ae0720048909e47e30b615611ce",
            "_model_module": "@jupyter-widgets/controls",
            "children": [
              "IPY_MODEL_fd40215feda645289d3173dc20acdc60",
              "IPY_MODEL_0aa3069cedce4df983eae6e8f7e9a875"
            ]
          }
        },
        "f6993ae0720048909e47e30b615611ce": {
          "model_module": "@jupyter-widgets/base",
          "model_name": "LayoutModel",
          "state": {
            "_view_name": "LayoutView",
            "grid_template_rows": null,
            "right": null,
            "justify_content": null,
            "_view_module": "@jupyter-widgets/base",
            "overflow": null,
            "_model_module_version": "1.2.0",
            "_view_count": null,
            "flex_flow": null,
            "width": null,
            "min_width": null,
            "border": null,
            "align_items": null,
            "bottom": null,
            "_model_module": "@jupyter-widgets/base",
            "top": null,
            "grid_column": null,
            "overflow_y": null,
            "overflow_x": null,
            "grid_auto_flow": null,
            "grid_area": null,
            "grid_template_columns": null,
            "flex": null,
            "_model_name": "LayoutModel",
            "justify_items": null,
            "grid_row": null,
            "max_height": null,
            "align_content": null,
            "visibility": null,
            "align_self": null,
            "height": null,
            "min_height": null,
            "padding": null,
            "grid_auto_rows": null,
            "grid_gap": null,
            "max_width": null,
            "order": null,
            "_view_module_version": "1.2.0",
            "grid_template_areas": null,
            "object_position": null,
            "object_fit": null,
            "grid_auto_columns": null,
            "margin": null,
            "display": null,
            "left": null
          }
        },
        "fd40215feda645289d3173dc20acdc60": {
          "model_module": "@jupyter-widgets/controls",
          "model_name": "FloatProgressModel",
          "state": {
            "_view_name": "ProgressView",
            "style": "IPY_MODEL_2119f9d6489a49ab90f9df7e8428249e",
            "_dom_classes": [],
            "description": "100%",
            "_model_name": "FloatProgressModel",
            "bar_style": "success",
            "max": 2,
            "_view_module": "@jupyter-widgets/controls",
            "_model_module_version": "1.5.0",
            "value": 2,
            "_view_count": null,
            "_view_module_version": "1.5.0",
            "orientation": "horizontal",
            "min": 0,
            "description_tooltip": null,
            "_model_module": "@jupyter-widgets/controls",
            "layout": "IPY_MODEL_8ffc3236ff38444caa94b91fc0252c84"
          }
        },
        "0aa3069cedce4df983eae6e8f7e9a875": {
          "model_module": "@jupyter-widgets/controls",
          "model_name": "HTMLModel",
          "state": {
            "_view_name": "HTMLView",
            "style": "IPY_MODEL_2abd3f85f835429db025a3c1ce1d04c5",
            "_dom_classes": [],
            "description": "",
            "_model_name": "HTMLModel",
            "placeholder": "​",
            "_view_module": "@jupyter-widgets/controls",
            "_model_module_version": "1.5.0",
            "value": " 2/2 [02:18&lt;00:00, 69.21s/it]",
            "_view_count": null,
            "_view_module_version": "1.5.0",
            "description_tooltip": null,
            "_model_module": "@jupyter-widgets/controls",
            "layout": "IPY_MODEL_a9977c327b944e03824382ebdb7872a4"
          }
        },
        "2119f9d6489a49ab90f9df7e8428249e": {
          "model_module": "@jupyter-widgets/controls",
          "model_name": "ProgressStyleModel",
          "state": {
            "_view_name": "StyleView",
            "_model_name": "ProgressStyleModel",
            "description_width": "initial",
            "_view_module": "@jupyter-widgets/base",
            "_model_module_version": "1.5.0",
            "_view_count": null,
            "_view_module_version": "1.2.0",
            "bar_color": null,
            "_model_module": "@jupyter-widgets/controls"
          }
        },
        "8ffc3236ff38444caa94b91fc0252c84": {
          "model_module": "@jupyter-widgets/base",
          "model_name": "LayoutModel",
          "state": {
            "_view_name": "LayoutView",
            "grid_template_rows": null,
            "right": null,
            "justify_content": null,
            "_view_module": "@jupyter-widgets/base",
            "overflow": null,
            "_model_module_version": "1.2.0",
            "_view_count": null,
            "flex_flow": null,
            "width": null,
            "min_width": null,
            "border": null,
            "align_items": null,
            "bottom": null,
            "_model_module": "@jupyter-widgets/base",
            "top": null,
            "grid_column": null,
            "overflow_y": null,
            "overflow_x": null,
            "grid_auto_flow": null,
            "grid_area": null,
            "grid_template_columns": null,
            "flex": null,
            "_model_name": "LayoutModel",
            "justify_items": null,
            "grid_row": null,
            "max_height": null,
            "align_content": null,
            "visibility": null,
            "align_self": null,
            "height": null,
            "min_height": null,
            "padding": null,
            "grid_auto_rows": null,
            "grid_gap": null,
            "max_width": null,
            "order": null,
            "_view_module_version": "1.2.0",
            "grid_template_areas": null,
            "object_position": null,
            "object_fit": null,
            "grid_auto_columns": null,
            "margin": null,
            "display": null,
            "left": null
          }
        },
        "2abd3f85f835429db025a3c1ce1d04c5": {
          "model_module": "@jupyter-widgets/controls",
          "model_name": "DescriptionStyleModel",
          "state": {
            "_view_name": "StyleView",
            "_model_name": "DescriptionStyleModel",
            "description_width": "",
            "_view_module": "@jupyter-widgets/base",
            "_model_module_version": "1.5.0",
            "_view_count": null,
            "_view_module_version": "1.2.0",
            "_model_module": "@jupyter-widgets/controls"
          }
        },
        "a9977c327b944e03824382ebdb7872a4": {
          "model_module": "@jupyter-widgets/base",
          "model_name": "LayoutModel",
          "state": {
            "_view_name": "LayoutView",
            "grid_template_rows": null,
            "right": null,
            "justify_content": null,
            "_view_module": "@jupyter-widgets/base",
            "overflow": null,
            "_model_module_version": "1.2.0",
            "_view_count": null,
            "flex_flow": null,
            "width": null,
            "min_width": null,
            "border": null,
            "align_items": null,
            "bottom": null,
            "_model_module": "@jupyter-widgets/base",
            "top": null,
            "grid_column": null,
            "overflow_y": null,
            "overflow_x": null,
            "grid_auto_flow": null,
            "grid_area": null,
            "grid_template_columns": null,
            "flex": null,
            "_model_name": "LayoutModel",
            "justify_items": null,
            "grid_row": null,
            "max_height": null,
            "align_content": null,
            "visibility": null,
            "align_self": null,
            "height": null,
            "min_height": null,
            "padding": null,
            "grid_auto_rows": null,
            "grid_gap": null,
            "max_width": null,
            "order": null,
            "_view_module_version": "1.2.0",
            "grid_template_areas": null,
            "object_position": null,
            "object_fit": null,
            "grid_auto_columns": null,
            "margin": null,
            "display": null,
            "left": null
          }
        },
        "53ee2ed571ca4490877b76930d3f6fb1": {
          "model_module": "@jupyter-widgets/controls",
          "model_name": "HBoxModel",
          "state": {
            "_view_name": "HBoxView",
            "_dom_classes": [],
            "_model_name": "HBoxModel",
            "_view_module": "@jupyter-widgets/controls",
            "_model_module_version": "1.5.0",
            "_view_count": null,
            "_view_module_version": "1.5.0",
            "box_style": "",
            "layout": "IPY_MODEL_5cf451a5c3c649c593a7445933fd040c",
            "_model_module": "@jupyter-widgets/controls",
            "children": [
              "IPY_MODEL_2031bf85bed34505897f8cd0ad2ec663",
              "IPY_MODEL_d50c256bb4424a989ce83b004a06ce78"
            ]
          }
        },
        "5cf451a5c3c649c593a7445933fd040c": {
          "model_module": "@jupyter-widgets/base",
          "model_name": "LayoutModel",
          "state": {
            "_view_name": "LayoutView",
            "grid_template_rows": null,
            "right": null,
            "justify_content": null,
            "_view_module": "@jupyter-widgets/base",
            "overflow": null,
            "_model_module_version": "1.2.0",
            "_view_count": null,
            "flex_flow": null,
            "width": null,
            "min_width": null,
            "border": null,
            "align_items": null,
            "bottom": null,
            "_model_module": "@jupyter-widgets/base",
            "top": null,
            "grid_column": null,
            "overflow_y": null,
            "overflow_x": null,
            "grid_auto_flow": null,
            "grid_area": null,
            "grid_template_columns": null,
            "flex": null,
            "_model_name": "LayoutModel",
            "justify_items": null,
            "grid_row": null,
            "max_height": null,
            "align_content": null,
            "visibility": null,
            "align_self": null,
            "height": null,
            "min_height": null,
            "padding": null,
            "grid_auto_rows": null,
            "grid_gap": null,
            "max_width": null,
            "order": null,
            "_view_module_version": "1.2.0",
            "grid_template_areas": null,
            "object_position": null,
            "object_fit": null,
            "grid_auto_columns": null,
            "margin": null,
            "display": null,
            "left": null
          }
        },
        "2031bf85bed34505897f8cd0ad2ec663": {
          "model_module": "@jupyter-widgets/controls",
          "model_name": "FloatProgressModel",
          "state": {
            "_view_name": "ProgressView",
            "style": "IPY_MODEL_8610d6f5a0db48a8a6fa647bdf1ad757",
            "_dom_classes": [],
            "description": "100%",
            "_model_name": "FloatProgressModel",
            "bar_style": "success",
            "max": 2,
            "_view_module": "@jupyter-widgets/controls",
            "_model_module_version": "1.5.0",
            "value": 2,
            "_view_count": null,
            "_view_module_version": "1.5.0",
            "orientation": "horizontal",
            "min": 0,
            "description_tooltip": null,
            "_model_module": "@jupyter-widgets/controls",
            "layout": "IPY_MODEL_3e2ce7aa89644103ac21161aba5e5781"
          }
        },
        "d50c256bb4424a989ce83b004a06ce78": {
          "model_module": "@jupyter-widgets/controls",
          "model_name": "HTMLModel",
          "state": {
            "_view_name": "HTMLView",
            "style": "IPY_MODEL_225b94bb233445ba9d35137cc9bf31a7",
            "_dom_classes": [],
            "description": "",
            "_model_name": "HTMLModel",
            "placeholder": "​",
            "_view_module": "@jupyter-widgets/controls",
            "_model_module_version": "1.5.0",
            "value": " 2/2 [01:12&lt;00:00, 36.48s/it]",
            "_view_count": null,
            "_view_module_version": "1.5.0",
            "description_tooltip": null,
            "_model_module": "@jupyter-widgets/controls",
            "layout": "IPY_MODEL_ca3316956cab44caad71b271b122adcd"
          }
        },
        "8610d6f5a0db48a8a6fa647bdf1ad757": {
          "model_module": "@jupyter-widgets/controls",
          "model_name": "ProgressStyleModel",
          "state": {
            "_view_name": "StyleView",
            "_model_name": "ProgressStyleModel",
            "description_width": "initial",
            "_view_module": "@jupyter-widgets/base",
            "_model_module_version": "1.5.0",
            "_view_count": null,
            "_view_module_version": "1.2.0",
            "bar_color": null,
            "_model_module": "@jupyter-widgets/controls"
          }
        },
        "3e2ce7aa89644103ac21161aba5e5781": {
          "model_module": "@jupyter-widgets/base",
          "model_name": "LayoutModel",
          "state": {
            "_view_name": "LayoutView",
            "grid_template_rows": null,
            "right": null,
            "justify_content": null,
            "_view_module": "@jupyter-widgets/base",
            "overflow": null,
            "_model_module_version": "1.2.0",
            "_view_count": null,
            "flex_flow": null,
            "width": null,
            "min_width": null,
            "border": null,
            "align_items": null,
            "bottom": null,
            "_model_module": "@jupyter-widgets/base",
            "top": null,
            "grid_column": null,
            "overflow_y": null,
            "overflow_x": null,
            "grid_auto_flow": null,
            "grid_area": null,
            "grid_template_columns": null,
            "flex": null,
            "_model_name": "LayoutModel",
            "justify_items": null,
            "grid_row": null,
            "max_height": null,
            "align_content": null,
            "visibility": null,
            "align_self": null,
            "height": null,
            "min_height": null,
            "padding": null,
            "grid_auto_rows": null,
            "grid_gap": null,
            "max_width": null,
            "order": null,
            "_view_module_version": "1.2.0",
            "grid_template_areas": null,
            "object_position": null,
            "object_fit": null,
            "grid_auto_columns": null,
            "margin": null,
            "display": null,
            "left": null
          }
        },
        "225b94bb233445ba9d35137cc9bf31a7": {
          "model_module": "@jupyter-widgets/controls",
          "model_name": "DescriptionStyleModel",
          "state": {
            "_view_name": "StyleView",
            "_model_name": "DescriptionStyleModel",
            "description_width": "",
            "_view_module": "@jupyter-widgets/base",
            "_model_module_version": "1.5.0",
            "_view_count": null,
            "_view_module_version": "1.2.0",
            "_model_module": "@jupyter-widgets/controls"
          }
        },
        "ca3316956cab44caad71b271b122adcd": {
          "model_module": "@jupyter-widgets/base",
          "model_name": "LayoutModel",
          "state": {
            "_view_name": "LayoutView",
            "grid_template_rows": null,
            "right": null,
            "justify_content": null,
            "_view_module": "@jupyter-widgets/base",
            "overflow": null,
            "_model_module_version": "1.2.0",
            "_view_count": null,
            "flex_flow": null,
            "width": null,
            "min_width": null,
            "border": null,
            "align_items": null,
            "bottom": null,
            "_model_module": "@jupyter-widgets/base",
            "top": null,
            "grid_column": null,
            "overflow_y": null,
            "overflow_x": null,
            "grid_auto_flow": null,
            "grid_area": null,
            "grid_template_columns": null,
            "flex": null,
            "_model_name": "LayoutModel",
            "justify_items": null,
            "grid_row": null,
            "max_height": null,
            "align_content": null,
            "visibility": null,
            "align_self": null,
            "height": null,
            "min_height": null,
            "padding": null,
            "grid_auto_rows": null,
            "grid_gap": null,
            "max_width": null,
            "order": null,
            "_view_module_version": "1.2.0",
            "grid_template_areas": null,
            "object_position": null,
            "object_fit": null,
            "grid_auto_columns": null,
            "margin": null,
            "display": null,
            "left": null
          }
        }
      }
    }
  },
  "cells": [
    {
      "cell_type": "markdown",
      "metadata": {
        "id": "view-in-github",
        "colab_type": "text"
      },
      "source": [
        "<a href=\"https://colab.research.google.com/github/georgiivarygin/cs231n/blob/main/svm.ipynb\" target=\"_parent\"><img src=\"https://colab.research.google.com/assets/colab-badge.svg\" alt=\"Open In Colab\"/></a>"
      ]
    },
    {
      "cell_type": "code",
      "metadata": {
        "colab": {
          "base_uri": "https://localhost:8080/"
        },
        "id": "M52VXrLdkG2N",
        "outputId": "5e250a77-f751-4cf0-ddab-90be2ad28788"
      },
      "source": [
        "from google.colab import drive\n",
        "import sys\n",
        "sys.path.append('./cs231n')\n",
        "drive.mount('/content/drive')\n",
        "\n",
        "# enter the foldername in your Drive where you have saved the unzipped\n",
        "# 'cs231n' folder containing the '.py', 'classifiers' and 'datasets'\n",
        "# folders.\n",
        "# e.g. 'cs231n/assignments/assignment1/cs231n/'\n",
        "FOLDERNAME = 'cs231n/assignments/assignment1/cs231n/'\n",
        "\n",
        "assert FOLDERNAME is not None, \"[!] Enter the foldername.\"\n",
        "\n",
        "%cd drive/My\\ Drive\n",
        "%cp -r $FOLDERNAME ../../\n",
        "%cd ../../\n",
        "%cd cs231n/datasets/\n",
        "!bash get_datasets.sh\n",
        "%cd ../../"
      ],
      "execution_count": null,
      "outputs": [
        {
          "output_type": "stream",
          "text": [
            "Mounted at /content/drive\n",
            "/content/drive/My Drive\n",
            "/content\n",
            "/content/cs231n/datasets\n",
            "--2021-07-08 12:42:09--  http://www.cs.toronto.edu/~kriz/cifar-10-python.tar.gz\n",
            "Resolving www.cs.toronto.edu (www.cs.toronto.edu)... 128.100.3.30\n",
            "Connecting to www.cs.toronto.edu (www.cs.toronto.edu)|128.100.3.30|:80... connected.\n",
            "HTTP request sent, awaiting response... 200 OK\n",
            "Length: 170498071 (163M) [application/x-gzip]\n",
            "Saving to: ‘cifar-10-python.tar.gz’\n",
            "\n",
            "cifar-10-python.tar 100%[===================>] 162.60M  47.2MB/s    in 3.8s    \n",
            "\n",
            "2021-07-08 12:42:13 (42.3 MB/s) - ‘cifar-10-python.tar.gz’ saved [170498071/170498071]\n",
            "\n",
            "cifar-10-batches-py/\n",
            "cifar-10-batches-py/data_batch_4\n",
            "cifar-10-batches-py/readme.html\n",
            "cifar-10-batches-py/test_batch\n",
            "cifar-10-batches-py/data_batch_3\n",
            "cifar-10-batches-py/batches.meta\n",
            "cifar-10-batches-py/data_batch_2\n",
            "cifar-10-batches-py/data_batch_5\n",
            "cifar-10-batches-py/data_batch_1\n",
            "/content\n"
          ],
          "name": "stdout"
        }
      ]
    },
    {
      "cell_type": "markdown",
      "metadata": {
        "tags": [
          "pdf-title"
        ],
        "id": "3FZI-d-ikG2T"
      },
      "source": [
        "# Multiclass Support Vector Machine exercise\n",
        "\n",
        "*Complete and hand in this completed worksheet (including its outputs and any supporting code outside of the worksheet) with your assignment submission. For more details see the [assignments page](http://vision.stanford.edu/teaching/cs231n/assignments.html) on the course website.*\n",
        "\n",
        "In this exercise you will:\n",
        "    \n",
        "- implement a fully-vectorized **loss function** for the SVM\n",
        "- implement the fully-vectorized expression for its **analytic gradient**\n",
        "- **check your implementation** using numerical gradient\n",
        "- use a validation set to **tune the learning rate and regularization** strength\n",
        "- **optimize** the loss function with **SGD**\n",
        "- **visualize** the final learned weights\n"
      ]
    },
    {
      "cell_type": "code",
      "metadata": {
        "tags": [
          "pdf-ignore"
        ],
        "id": "NBHbB9zwkG2U"
      },
      "source": [
        "# Run some setup code for this notebook.\n",
        "import random\n",
        "import numpy as np\n",
        "from cs231n.data_utils import load_CIFAR10\n",
        "import matplotlib.pyplot as plt\n",
        "\n",
        "# This is a bit of magic to make matplotlib figures appear inline in the\n",
        "# notebook rather than in a new window.\n",
        "%matplotlib inline\n",
        "plt.rcParams['figure.figsize'] = (10.0, 8.0) # set default size of plots\n",
        "plt.rcParams['image.interpolation'] = 'nearest'\n",
        "plt.rcParams['image.cmap'] = 'gray'\n",
        "\n",
        "# Some more magic so that the notebook will reload external python modules;\n",
        "# see http://stackoverflow.com/questions/1907993/autoreload-of-modules-in-ipython\n",
        "%load_ext autoreload\n",
        "%autoreload 2"
      ],
      "execution_count": null,
      "outputs": []
    },
    {
      "cell_type": "markdown",
      "metadata": {
        "tags": [
          "pdf-ignore"
        ],
        "id": "bxRDeU3KkG2W"
      },
      "source": [
        "## CIFAR-10 Data Loading and Preprocessing"
      ]
    },
    {
      "cell_type": "code",
      "metadata": {
        "tags": [
          "pdf-ignore"
        ],
        "id": "5s0x1oRDkG2X",
        "colab": {
          "base_uri": "https://localhost:8080/"
        },
        "outputId": "3be3e87b-7107-499e-dcae-1da60627621c"
      },
      "source": [
        "# Load the raw CIFAR-10 data.\n",
        "cifar10_dir = 'cs231n/datasets/cifar-10-batches-py'\n",
        "\n",
        "# Cleaning up variables to prevent loading data multiple times (which may cause memory issue)\n",
        "try:\n",
        "   del X_train, y_train\n",
        "   del X_test, y_test\n",
        "   print('Clear previously loaded data.')\n",
        "except:\n",
        "   pass\n",
        "\n",
        "X_train, y_train, X_test, y_test = load_CIFAR10(cifar10_dir)\n",
        "\n",
        "# As a sanity check, we print out the size of the training and test data.\n",
        "print('Training data shape: ', X_train.shape)\n",
        "print('Training labels shape: ', y_train.shape)\n",
        "print('Test data shape: ', X_test.shape)\n",
        "print('Test labels shape: ', y_test.shape)"
      ],
      "execution_count": null,
      "outputs": [
        {
          "output_type": "stream",
          "text": [
            "Training data shape:  (50000, 32, 32, 3)\n",
            "Training labels shape:  (50000,)\n",
            "Test data shape:  (10000, 32, 32, 3)\n",
            "Test labels shape:  (10000,)\n"
          ],
          "name": "stdout"
        }
      ]
    },
    {
      "cell_type": "code",
      "metadata": {
        "tags": [
          "pdf-ignore"
        ],
        "id": "cxpAW74mkG2X",
        "colab": {
          "base_uri": "https://localhost:8080/",
          "height": 476
        },
        "outputId": "05e4759a-0109-4ea9-f470-73872f88c8c4"
      },
      "source": [
        "# Visualize some examples from the dataset.\n",
        "# We show a few examples of training images from each class.\n",
        "classes = ['plane', 'car', 'bird', 'cat', 'deer', 'dog', 'frog', 'horse', 'ship', 'truck']\n",
        "num_classes = len(classes)\n",
        "samples_per_class = 7\n",
        "for y, cls in enumerate(classes):\n",
        "    idxs = np.flatnonzero(y_train == y)\n",
        "    idxs = np.random.choice(idxs, samples_per_class, replace=False)\n",
        "    for i, idx in enumerate(idxs):\n",
        "        plt_idx = i * num_classes + y + 1\n",
        "        plt.subplot(samples_per_class, num_classes, plt_idx)\n",
        "        plt.imshow(X_train[idx].astype('uint8'))\n",
        "        plt.axis('off')\n",
        "        if i == 0:\n",
        "            plt.title(cls)\n",
        "plt.show()"
      ],
      "execution_count": null,
      "outputs": [
        {
          "output_type": "display_data",
          "data": {
            "image/png": "[encoded data removed]",
            "text/plain": [
              "<Figure size 720x576 with 70 Axes>"
            ]
          },
          "metadata": {
            "tags": [],
            "needs_background": "light"
          }
        }
      ]
    },
    {
      "cell_type": "code",
      "metadata": {
        "tags": [
          "pdf-ignore"
        ],
        "id": "5awJVyackG2Y",
        "colab": {
          "base_uri": "https://localhost:8080/"
        },
        "outputId": "c68816ea-3b85-4ef2-d770-3eb8d1e9281b"
      },
      "source": [
        "# Split the data into train, val, and test sets. In addition we will\n",
        "# create a small development set as a subset of the training data;\n",
        "# we can use this for development so our code runs faster.\n",
        "num_training = 49000\n",
        "num_validation = 1000\n",
        "num_test = 1000\n",
        "num_dev = 500\n",
        "\n",
        "# Our validation set will be num_validation points from the original\n",
        "# training set.\n",
        "mask = range(num_training, num_training + num_validation)\n",
        "X_val = X_train[mask]\n",
        "y_val = y_train[mask]\n",
        "\n",
        "# Our training set will be the first num_train points from the original\n",
        "# training set.\n",
        "mask = range(num_training)\n",
        "X_train = X_train[mask]\n",
        "y_train = y_train[mask]\n",
        "\n",
        "# We will also make a development set, which is a small subset of\n",
        "# the training set.\n",
        "mask = np.random.choice(num_training, num_dev, replace=False)\n",
        "X_dev = X_train[mask]\n",
        "y_dev = y_train[mask]\n",
        "\n",
        "# We use the first num_test points of the original test set as our\n",
        "# test set.\n",
        "mask = range(num_test)\n",
        "X_test = X_test[mask]\n",
        "y_test = y_test[mask]\n",
        "\n",
        "print('Train data shape: ', X_train.shape)\n",
        "print('Train labels shape: ', y_train.shape)\n",
        "print('Validation data shape: ', X_val.shape)\n",
        "print('Validation labels shape: ', y_val.shape)\n",
        "print('Test data shape: ', X_test.shape)\n",
        "print('Test labels shape: ', y_test.shape)"
      ],
      "execution_count": null,
      "outputs": [
        {
          "output_type": "stream",
          "text": [
            "Train data shape:  (49000, 32, 32, 3)\n",
            "Train labels shape:  (49000,)\n",
            "Validation data shape:  (1000, 32, 32, 3)\n",
            "Validation labels shape:  (1000,)\n",
            "Test data shape:  (1000, 32, 32, 3)\n",
            "Test labels shape:  (1000,)\n"
          ],
          "name": "stdout"
        }
      ]
    },
    {
      "cell_type": "code",
      "metadata": {
        "tags": [
          "pdf-ignore"
        ],
        "id": "VhihvhovkG2Z",
        "colab": {
          "base_uri": "https://localhost:8080/"
        },
        "outputId": "0cca817b-e493-4a34-b08e-3f8d7ada8ff2"
      },
      "source": [
        "# Preprocessing: reshape the image data into rows\n",
        "X_train = np.reshape(X_train, (X_train.shape[0], -1))\n",
        "X_val = np.reshape(X_val, (X_val.shape[0], -1))\n",
        "X_test = np.reshape(X_test, (X_test.shape[0], -1))\n",
        "X_dev = np.reshape(X_dev, (X_dev.shape[0], -1))\n",
        "\n",
        "# As a sanity check, print out the shapes of the data\n",
        "print('Training data shape: ', X_train.shape)\n",
        "print('Validation data shape: ', X_val.shape)\n",
        "print('Test data shape: ', X_test.shape)\n",
        "print('dev data shape: ', X_dev.shape)"
      ],
      "execution_count": null,
      "outputs": [
        {
          "output_type": "stream",
          "text": [
            "Training data shape:  (49000, 3072)\n",
            "Validation data shape:  (1000, 3072)\n",
            "Test data shape:  (1000, 3072)\n",
            "dev data shape:  (500, 3072)\n"
          ],
          "name": "stdout"
        }
      ]
    },
    {
      "cell_type": "code",
      "metadata": {
        "tags": [
          "pdf-ignore-input"
        ],
        "id": "QIPEA4EEkG2Z",
        "colab": {
          "base_uri": "https://localhost:8080/",
          "height": 321
        },
        "outputId": "78020404-e74b-4b79-abe8-24d4ba5727d4"
      },
      "source": [
        "# Preprocessing: subtract the mean image\n",
        "# first: compute the image mean based on the training data\n",
        "mean_image = np.mean(X_train, axis=0)\n",
        "print(mean_image[:10]) # print a few of the elements\n",
        "plt.figure(figsize=(4,4))\n",
        "plt.imshow(mean_image.reshape((32,32,3)).astype('uint8')) # visualize the mean image\n",
        "plt.show()\n",
        "\n",
        "# second: subtract the mean image from train and test data\n",
        "X_train -= mean_image\n",
        "X_val -= mean_image\n",
        "X_test -= mean_image\n",
        "X_dev -= mean_image\n",
        "\n",
        "# third: append the bias dimension of ones (i.e. bias trick) so that our SVM\n",
        "# only has to worry about optimizing a single weight matrix W.\n",
        "X_train = np.hstack([X_train, np.ones((X_train.shape[0], 1))])\n",
        "X_val = np.hstack([X_val, np.ones((X_val.shape[0], 1))])\n",
        "X_test = np.hstack([X_test, np.ones((X_test.shape[0], 1))])\n",
        "X_dev = np.hstack([X_dev, np.ones((X_dev.shape[0], 1))])\n",
        "\n",
        "print(X_train.shape, X_val.shape, X_test.shape, X_dev.shape)"
      ],
      "execution_count": null,
      "outputs": [
        {
          "output_type": "stream",
          "text": [
            "[130.64189796 135.98173469 132.47391837 130.05569388 135.34804082\n",
            " 131.75402041 130.96055102 136.14328571 132.47636735 131.48467347]\n"
          ],
          "name": "stdout"
        },
        {
          "output_type": "display_data",
          "data": {
            "image/png": "[encoded data removed]",
            "text/plain": [
              "<Figure size 288x288 with 1 Axes>"
            ]
          },
          "metadata": {
            "tags": [],
            "needs_background": "light"
          }
        },
        {
          "output_type": "stream",
          "text": [
            "(49000, 3073) (1000, 3073) (1000, 3073) (500, 3073)\n"
          ],
          "name": "stdout"
        }
      ]
    },
    {
      "cell_type": "markdown",
      "metadata": {
        "id": "QOJnHiUbkG2a"
      },
      "source": [
        "## SVM Classifier\n",
        "\n",
        "Your code for this section will all be written inside `cs231n/classifiers/linear_svm.py`. \n",
        "\n",
        "As you can see, we have prefilled the function `svm_loss_naive` which uses for loops to evaluate the multiclass SVM loss function. "
      ]
    },
    {
      "cell_type": "code",
      "metadata": {
        "id": "c_uHuxYYkG2b",
        "colab": {
          "base_uri": "https://localhost:8080/"
        },
        "outputId": "5131cdff-2777-4001-db0a-2cfd15c8cfc4"
      },
      "source": [
        "# Evaluate the naive implementation of the loss we provided for you:\n",
        "from cs231n.classifiers.linear_svm import svm_loss_naive\n",
        "import time\n",
        "\n",
        "# generate a random SVM weight matrix of small numbers\n",
        "W = np.random.randn(3073, 10) * 0.0001 \n",
        "\n",
        "loss, grad = svm_loss_naive(W, X_dev, y_dev, 0.000005)\n",
        "print('loss: %f' % (loss, ))"
      ],
      "execution_count": null,
      "outputs": [
        {
          "output_type": "stream",
          "text": [
            "loss: 9.568878\n"
          ],
          "name": "stdout"
        }
      ]
    },
    {
      "cell_type": "code",
      "metadata": {
        "colab": {
          "base_uri": "https://localhost:8080/"
        },
        "id": "1NlAo8CUT49V",
        "outputId": "78e29ae7-fa9b-42ff-c495-6b110b2a6399"
      },
      "source": [
        "y_dev[6]"
      ],
      "execution_count": null,
      "outputs": [
        {
          "output_type": "execute_result",
          "data": {
            "text/plain": [
              "5"
            ]
          },
          "metadata": {
            "tags": []
          },
          "execution_count": 38
        }
      ]
    },
    {
      "cell_type": "code",
      "metadata": {
        "colab": {
          "base_uri": "https://localhost:8080/"
        },
        "id": "a-ToEerCTf4U",
        "outputId": "d6477eef-d80c-4cbd-add5-9350dfbb75ce"
      },
      "source": [
        "W.shape[1]"
      ],
      "execution_count": null,
      "outputs": [
        {
          "output_type": "execute_result",
          "data": {
            "text/plain": [
              "10"
            ]
          },
          "metadata": {
            "tags": []
          },
          "execution_count": 36
        }
      ]
    },
    {
      "cell_type": "markdown",
      "metadata": {
        "id": "_kHZpshqkG2b"
      },
      "source": [
        "The `grad` returned from the function above is right now all zero. Derive and implement the gradient for the SVM cost function and implement it inline inside the function `svm_loss_naive`. You will find it helpful to interleave your new code inside the existing function.\n",
        "\n",
        "To check that you have correctly implemented the gradient correctly, you can numerically estimate the gradient of the loss function and compare the numeric estimate to the gradient that you computed. We have provided code that does this for you:"
      ]
    },
    {
      "cell_type": "code",
      "metadata": {
        "id": "OBRPO-_wFX1E"
      },
      "source": [
        "!cat cs231n/classifiers/linear_svm.py"
      ],
      "execution_count": null,
      "outputs": []
    },
    {
      "cell_type": "code",
      "metadata": {
        "colab": {
          "base_uri": "https://localhost:8080/"
        },
        "id": "WCm7wNZZFi8K",
        "outputId": "74ad5b49-7935-464d-8810-d24606f7e846"
      },
      "source": [
        "%%writefile cs231n/classifiers/linear_svm.py\n",
        "from builtins import range\n",
        "import numpy as np\n",
        "from random import shuffle\n",
        "from past.builtins import xrange\n",
        "\n",
        "def svm_loss_naive(W, X, y, reg):\n",
        "    \"\"\"\n",
        "    Structured SVM loss function, naive implementation (with loops).\n",
        "\n",
        "    Inputs have dimension D, there are C classes, and we operate on minibatches\n",
        "    of N examples.\n",
        "\n",
        "    Inputs:\n",
        "    - W: A numpy array of shape (D, C) containing weights.\n",
        "    - X: A numpy array of shape (N, D) containing a minibatch of data.\n",
        "    - y: A numpy array of shape (N,) containing training labels; y[i] = c means\n",
        "      that X[i] has label c, where 0 <= c < C.\n",
        "    - reg: (float) regularization strength\n",
        "\n",
        "    Returns a tuple of:\n",
        "    - loss as single float\n",
        "    - gradient with respect to weights W; an array of same shape as W\n",
        "    \"\"\"\n",
        "    dW = np.zeros(W.shape) # initialize the gradient as zero\n",
        "\n",
        "    # compute the loss and the gradient\n",
        "    num_classes = W.shape[1]\n",
        "    num_train = X.shape[0]\n",
        "    loss = 0.0\n",
        "    for i in range(num_train):\n",
        "        scores = X[i].dot(W)\n",
        "        correct_class_score = scores[y[i]]\n",
        "        for j in range(num_classes):\n",
        "            if j == y[i]:\n",
        "                continue\n",
        "            margin = scores[j] - correct_class_score + 1 # note delta = 1\n",
        "            if margin > 0:\n",
        "                loss += margin\n",
        "                dW[:,j] += X[i]\n",
        "                dW[:,y[i]] -= X[i]\n",
        "\n",
        "    # Right now the loss is a sum over all training examples, but we want it\n",
        "    # to be an average instead so we divide by num_train.\n",
        "    loss /= num_train\n",
        "    dW /= num_train\n",
        "\n",
        "    # Add regularization to the loss.\n",
        "    loss += reg * np.sum(W * W)\n",
        "    \n",
        "    #############################################################################\n",
        "    # TODO:                                                                     #\n",
        "    # Compute the gradient of the loss function and store it dW.                #\n",
        "    # Rather than first computing the loss and then computing the derivative,   #\n",
        "    # it may be simpler to compute the derivative at the same time that the     #\n",
        "    # loss is being computed. As a result you may need to modify some of the    #\n",
        "    # code above to compute the gradient.                                       #\n",
        "    #############################################################################\n",
        "    # *****START OF YOUR CODE (DO NOT DELETE/MODIFY THIS LINE)*****\n",
        "    dW += 2 * reg * W\n",
        "    pass\n",
        "\n",
        "    # *****END OF YOUR CODE (DO NOT DELETE/MODIFY THIS LINE)*****\n",
        "    \n",
        "    return loss, dW\n",
        "\n",
        "\n",
        "\n",
        "def svm_loss_vectorized(W, X, y, reg):\n",
        "    \"\"\"\n",
        "    Structured SVM loss function, vectorized implementation.\n",
        "\n",
        "    Inputs and outputs are the same as svm_loss_naive.\n",
        "    \"\"\"\n",
        "    loss = 0.0\n",
        "    dW = np.zeros(W.shape) # initialize the gradient as zero\n",
        "    num_classes = W.shape[1]\n",
        "    num_train = X.shape[0]\n",
        "    #############################################################################\n",
        "    # TODO:                                                                     #\n",
        "    # Implement a vectorized version of the structured SVM loss, storing the    #\n",
        "    # result in loss.                                                           #\n",
        "    #############################################################################\n",
        "    # *****START OF YOUR CODE (DO NOT DELETE/MODIFY THIS LINE)*****\n",
        "    scores = X.dot(W)\n",
        "    correct_class_scores = scores[range(num_train),y].reshape(num_train,1)\n",
        "    margin = np.maximum(0, scores - correct_class_scores + np.ones(shape=(num_train,num_classes)))\n",
        "    #print(margin.shape, margin[0])\n",
        "    margin[range(num_train), y] = 0\n",
        "    #print(margin.shape, margin[0])\n",
        "    loss = np.sum(margin) / num_train\n",
        "    loss += 2 * reg * np.sum(W * W)\n",
        "    pass\n",
        "\n",
        "    # *****END OF YOUR CODE (DO NOT DELETE/MODIFY THIS LINE)*****\n",
        "\n",
        "    #############################################################################\n",
        "    # TODO:                                                                     #\n",
        "    # Implement a vectorized version of the gradient for the structured SVM     #\n",
        "    # loss, storing the result in dW.                                           #\n",
        "    #                                                                           #\n",
        "    # Hint: Instead of computing the gradient from scratch, it may be easier    #\n",
        "    # to reuse some of the intermediate values that you used to compute the     #\n",
        "    # loss.                                                                     #\n",
        "    #############################################################################\n",
        "    # *****START OF YOUR CODE (DO NOT DELETE/MODIFY THIS LINE)*****\n",
        "    ###  хз че тут происходит\n",
        "    margin[margin > 0] = 1\n",
        "    valid_margin_count = margin.sum(axis=1)\n",
        "    margin[range(num_train),y] -= valid_margin_count\n",
        "    dW = (X.T).dot(margin) / num_train\n",
        "    dW += 2 * reg * W\n",
        "    pass\n",
        "\n",
        "    # *****END OF YOUR CODE (DO NOT DELETE/MODIFY THIS LINE)*****\n",
        "\n",
        "    return loss, dW"
      ],
      "execution_count": null,
      "outputs": [
        {
          "output_type": "stream",
          "text": [
            "Overwriting cs231n/classifiers/linear_svm.py\n"
          ],
          "name": "stdout"
        }
      ]
    },
    {
      "cell_type": "code",
      "metadata": {
        "id": "U_PefJ1CkG2c",
        "colab": {
          "base_uri": "https://localhost:8080/"
        },
        "outputId": "445e88ba-93d6-4d11-bdfa-ae224bf4b8e9"
      },
      "source": [
        "# Once you've implemented the gradient, recompute it with the code below\n",
        "# and gradient check it with the function we provided for you\n",
        "\n",
        "# Compute the loss and its gradient at W.\n",
        "loss, grad = svm_loss_naive(W, X_dev, y_dev, 0.0)\n",
        "\n",
        "# Numerically compute the gradient along several randomly chosen dimensions, and\n",
        "# compare them with your analytically computed gradient. The numbers should match\n",
        "# almost exactly along all dimensions.\n",
        "from cs231n.gradient_check import grad_check_sparse\n",
        "f = lambda w: svm_loss_naive(w, X_dev, y_dev, 0.0)[0]\n",
        "grad_numerical = grad_check_sparse(f, W, grad)\n",
        "\n",
        "# do the gradient check once again with regularization turned on\n",
        "# you didn't forget the regularization gradient did you?\n",
        "loss, grad = svm_loss_naive(W, X_dev, y_dev, 5e1)\n",
        "f = lambda w: svm_loss_naive(w, X_dev, y_dev, 5e1)[0]\n",
        "grad_numerical = grad_check_sparse(f, W, grad)"
      ],
      "execution_count": null,
      "outputs": [
        {
          "output_type": "stream",
          "text": [
            "numerical: 17.065634 analytic: 17.065634, relative error: 2.405451e-11\n",
            "numerical: 17.404845 analytic: 17.404845, relative error: 9.741013e-12\n",
            "numerical: 11.482576 analytic: 11.482576, relative error: 7.462738e-12\n",
            "numerical: 8.372017 analytic: 8.372017, relative error: 2.353562e-11\n",
            "numerical: -65.851244 analytic: -65.851244, relative error: 1.889889e-12\n",
            "numerical: -14.452348 analytic: -14.452348, relative error: 2.196548e-12\n",
            "numerical: -26.930286 analytic: -26.930286, relative error: 2.157792e-12\n",
            "numerical: 5.468273 analytic: 5.468273, relative error: 2.372250e-11\n",
            "numerical: -4.163993 analytic: -4.163993, relative error: 6.927004e-11\n",
            "numerical: -17.232848 analytic: -17.232848, relative error: 1.513406e-11\n",
            "numerical: -0.260045 analytic: -0.260045, relative error: 5.652681e-10\n",
            "numerical: 13.850467 analytic: 13.850467, relative error: 1.034382e-11\n",
            "numerical: -14.199530 analytic: -14.199530, relative error: 1.305991e-11\n",
            "numerical: -40.151477 analytic: -40.151477, relative error: 1.412539e-12\n",
            "numerical: 1.148965 analytic: 1.148965, relative error: 2.053179e-10\n",
            "numerical: -40.770913 analytic: -40.770913, relative error: 5.467240e-12\n",
            "numerical: -16.419571 analytic: -16.419571, relative error: 2.052990e-11\n",
            "numerical: -14.461285 analytic: -14.461285, relative error: 3.418729e-11\n",
            "numerical: 1.391907 analytic: 1.391907, relative error: 8.736685e-11\n",
            "numerical: 25.527568 analytic: 25.527568, relative error: 4.757096e-12\n"
          ],
          "name": "stdout"
        }
      ]
    },
    {
      "cell_type": "markdown",
      "metadata": {
        "tags": [
          "pdf-inline"
        ],
        "id": "-BvVjqBwkG2c"
      },
      "source": [
        "**Inline Question 1**\n",
        "\n",
        "It is possible that once in a while a dimension in the gradcheck will not match exactly. What could such a discrepancy be caused by? Is it a reason for concern? What is a simple example in one dimension where a gradient check could fail? How would change the margin affect of the frequency of this happening? *Hint: the SVM loss function is not strictly speaking differentiable*\n",
        "\n",
        "$\\color{blue}{\\textit Your Answer:}$ *fill this in.*  \n"
      ]
    },
    {
      "cell_type": "code",
      "metadata": {
        "id": "vectorized_time_1",
        "scrolled": true,
        "colab": {
          "base_uri": "https://localhost:8080/"
        },
        "outputId": "bd5fede2-0a53-4ebe-bebd-e3bd7a1698c7"
      },
      "source": [
        "# Next implement the function svm_loss_vectorized; for now only compute the loss;\n",
        "# we will implement the gradient in a moment.\n",
        "tic = time.time()\n",
        "loss_naive, grad_naive = svm_loss_naive(W, X_dev, y_dev, 0.000005)\n",
        "toc = time.time()\n",
        "print('Naive loss: %e computed in %fs' % (loss_naive, toc - tic))\n",
        "\n",
        "from cs231n.classifiers.linear_svm import svm_loss_vectorized\n",
        "tic = time.time()\n",
        "loss_vectorized, _ = svm_loss_vectorized(W, X_dev, y_dev, 0.000005)\n",
        "toc = time.time()\n",
        "print('Vectorized loss: %e computed in %fs' % (loss_vectorized, toc - tic))\n",
        "\n",
        "# The losses should match but your vectorized implementation should be much faster.\n",
        "print('difference: %f' % (loss_naive - loss_vectorized))"
      ],
      "execution_count": null,
      "outputs": [
        {
          "output_type": "stream",
          "text": [
            "Naive loss: 9.568878e+00 computed in 0.119184s\n",
            "Vectorized loss: 9.568878e+00 computed in 0.012085s\n",
            "difference: -0.000000\n"
          ],
          "name": "stdout"
        }
      ]
    },
    {
      "cell_type": "code",
      "metadata": {
        "id": "vectorized_time_2",
        "colab": {
          "base_uri": "https://localhost:8080/"
        },
        "outputId": "254b6961-f612-448a-eba2-bfd4be3a0f6f"
      },
      "source": [
        "# Complete the implementation of svm_loss_vectorized, and compute the gradient\n",
        "# of the loss function in a vectorized way.\n",
        "\n",
        "# The naive implementation and the vectorized implementation should match, but\n",
        "# the vectorized version should still be much faster.\n",
        "tic = time.time()\n",
        "_, grad_naive = svm_loss_naive(W, X_dev, y_dev, 0.000005)\n",
        "toc = time.time()\n",
        "print('Naive loss and gradient: computed in %fs' % (toc - tic))\n",
        "\n",
        "tic = time.time()\n",
        "_, grad_vectorized = svm_loss_vectorized(W, X_dev, y_dev, 0.000005)\n",
        "toc = time.time()\n",
        "print('Vectorized loss and gradient: computed in %fs' % (toc - tic))\n",
        "\n",
        "# The loss is a single number, so it is easy to compare the values computed\n",
        "# by the two implementations. The gradient on the other hand is a matrix, so\n",
        "# we use the Frobenius norm to compare them.\n",
        "difference = np.linalg.norm(grad_naive - grad_vectorized, ord='fro')\n",
        "print('difference: %f' % difference)"
      ],
      "execution_count": null,
      "outputs": [
        {
          "output_type": "stream",
          "text": [
            "Naive loss and gradient: computed in 0.156494s\n",
            "Vectorized loss and gradient: computed in 0.016979s\n",
            "difference: 0.000000\n"
          ],
          "name": "stdout"
        }
      ]
    },
    {
      "cell_type": "markdown",
      "metadata": {
        "id": "NWCxyc2VkG2e"
      },
      "source": [
        "### Stochastic Gradient Descent\n",
        "\n",
        "We now have vectorized and efficient expressions for the loss, the gradient and our gradient matches the numerical gradient. We are therefore ready to do SGD to minimize the loss. Your code for this part will be written inside `cs231n/classifiers/linear_classifier.py`."
      ]
    },
    {
      "cell_type": "code",
      "metadata": {
        "id": "FIbxz5wJ2Kg4",
        "colab": {
          "base_uri": "https://localhost:8080/"
        },
        "outputId": "bfb0f4e0-8d96-4122-ff65-8358b1863515"
      },
      "source": [
        "!cat cs231n/classifiers/linear_classifier.py"
      ],
      "execution_count": null,
      "outputs": [
        {
          "output_type": "stream",
          "text": [
            "\n",
            "from __future__ import print_function\n",
            "\n",
            "from builtins import range\n",
            "from builtins import object\n",
            "import numpy as np\n",
            "from cs231n.classifiers.linear_svm import *\n",
            "from cs231n.classifiers.softmax import *\n",
            "from past.builtins import xrange\n",
            "\n",
            "\n",
            "class LinearClassifier(object):\n",
            "\n",
            "    def __init__(self):\n",
            "        self.W = None\n",
            "\n",
            "    def train(self, X, y, learning_rate=1e-3, reg=1e-5, num_iters=100,\n",
            "              batch_size=200, verbose=False):\n",
            "        \"\"\"\n",
            "        Train this linear classifier using stochastic gradient descent.\n",
            "\n",
            "        Inputs:\n",
            "        - X: A numpy array of shape (N, D) containing training data; there are N\n",
            "          training samples each of dimension D.\n",
            "        - y: A numpy array of shape (N,) containing training labels; y[i] = c\n",
            "          means that X[i] has label 0 <= c < C for C classes.\n",
            "        - learning_rate: (float) learning rate for optimization.\n",
            "        - reg: (float) regularization strength.\n",
            "        - num_iters: (integer) number of steps to take when optimizing\n",
            "        - batch_size: (integer) number of training examples to use at each step.\n",
            "        - verbose: (boolean) If true, print progress during optimization.\n",
            "\n",
            "        Outputs:\n",
            "        A list containing the value of the loss function at each training iteration.\n",
            "        \"\"\"\n",
            "        num_train, dim = X.shape\n",
            "        num_classes = np.max(y) + 1 # assume y takes values 0...K-1 where K is number of classes\n",
            "        if self.W is None:\n",
            "            # lazily initialize W\n",
            "            self.W = 0.001 * np.random.randn(dim, num_classes)\n",
            "\n",
            "        # Run stochastic gradient descent to optimize W\n",
            "        loss_history = []\n",
            "        for it in range(num_iters):\n",
            "            X_batch = None\n",
            "            y_batch = None\n",
            "\n",
            "            #########################################################################\n",
            "            # TODO:                                                                 #\n",
            "            # Sample batch_size elements from the training data and their           #\n",
            "            # corresponding labels to use in this round of gradient descent.        #\n",
            "            # Store the data in X_batch and their corresponding labels in           #\n",
            "            # y_batch; after sampling X_batch should have shape (batch_size, dim)   #\n",
            "            # and y_batch should have shape (batch_size,)                           #\n",
            "            #                                                                       #\n",
            "            # Hint: Use np.random.choice to generate indices. Sampling with         #\n",
            "            # replacement is faster than sampling without replacement.              #\n",
            "            #########################################################################\n",
            "            # *****START OF YOUR CODE (DO NOT DELETE/MODIFY THIS LINE)*****\n",
            "            indices = np.random.choice(range(num_train),size=batch_size)\n",
            "            X_batch = X[indices]\n",
            "            y_batch = y[indices]\n",
            "            pass\n",
            "\n",
            "            # *****END OF YOUR CODE (DO NOT DELETE/MODIFY THIS LINE)*****\n",
            "\n",
            "            # evaluate loss and gradient\n",
            "            loss, grad = self.loss(X_batch, y_batch, reg)\n",
            "            loss_history.append(loss)\n",
            "\n",
            "            # perform parameter update\n",
            "            #########################################################################\n",
            "            # TODO:                                                                 #\n",
            "            # Update the weights using the gradient and the learning rate.          #\n",
            "            #########################################################################\n",
            "            # *****START OF YOUR CODE (DO NOT DELETE/MODIFY THIS LINE)*****\n",
            "            self.W -= learning_rate * grad\n",
            "            pass\n",
            "\n",
            "            # *****END OF YOUR CODE (DO NOT DELETE/MODIFY THIS LINE)*****\n",
            "\n",
            "            if verbose and it % 100 == 0:\n",
            "                print('iteration %d / %d: loss %f' % (it, num_iters, loss))\n",
            "\n",
            "        return loss_history\n",
            "\n",
            "    def predict(self, X):\n",
            "        \"\"\"\n",
            "        Use the trained weights of this linear classifier to predict labels for\n",
            "        data points.\n",
            "\n",
            "        Inputs:\n",
            "        - X: A numpy array of shape (N, D) containing training data; there are N\n",
            "          training samples each of dimension D.\n",
            "\n",
            "        Returns:\n",
            "        - y_pred: Predicted labels for the data in X. y_pred is a 1-dimensional\n",
            "          array of length N, and each element is an integer giving the predicted\n",
            "          class.\n",
            "        \"\"\"\n",
            "        y_pred = np.zeros(X.shape[0])\n",
            "        ###########################################################################\n",
            "        # TODO:                                                                   #\n",
            "        # Implement this method. Store the predicted labels in y_pred.            #\n",
            "        ###########################################################################\n",
            "        # *****START OF YOUR CODE (DO NOT DELETE/MODIFY THIS LINE)*****\n",
            "        y_pred = np.argmax(X.dot(self.W), axis=1)\n",
            "        pass\n",
            "\n",
            "        # *****END OF YOUR CODE (DO NOT DELETE/MODIFY THIS LINE)*****\n",
            "        return y_pred\n",
            "\n",
            "    def loss(self, X_batch, y_batch, reg):\n",
            "        \"\"\"\n",
            "        Compute the loss function and its derivative.\n",
            "        Subclasses will override this.\n",
            "\n",
            "        Inputs:\n",
            "        - X_batch: A numpy array of shape (N, D) containing a minibatch of N\n",
            "          data points; each point has dimension D.\n",
            "        - y_batch: A numpy array of shape (N,) containing labels for the minibatch.\n",
            "        - reg: (float) regularization strength.\n",
            "\n",
            "        Returns: A tuple containing:\n",
            "        - loss as a single float\n",
            "        - gradient with respect to self.W; an array of the same shape as W\n",
            "        \"\"\"\n",
            "        pass\n",
            "\n",
            "\n",
            "class LinearSVM(LinearClassifier):\n",
            "    \"\"\" A subclass that uses the Multiclass SVM loss function \"\"\"\n",
            "\n",
            "    def loss(self, X_batch, y_batch, reg):\n",
            "        return svm_loss_vectorized(self.W, X_batch, y_batch, reg)\n",
            "\n",
            "\n",
            "class Softmax(LinearClassifier):\n",
            "    \"\"\" A subclass that uses the Softmax + Cross-entropy loss function \"\"\"\n",
            "\n",
            "    def loss(self, X_batch, y_batch, reg):\n",
            "        return softmax_loss_vectorized(self.W, X_batch, y_batch, reg)"
          ],
          "name": "stdout"
        }
      ]
    },
    {
      "cell_type": "code",
      "metadata": {
        "colab": {
          "base_uri": "https://localhost:8080/"
        },
        "id": "sKhfGJPX2YKm",
        "outputId": "f94e7443-18af-4090-b8f8-18e6cac76172"
      },
      "source": [
        "%%writefile cs231n/classifiers/linear_classifier.py\n",
        "\n",
        "from __future__ import print_function\n",
        "\n",
        "from builtins import range\n",
        "from builtins import object\n",
        "import numpy as np\n",
        "from cs231n.classifiers.linear_svm import *\n",
        "from cs231n.classifiers.softmax import *\n",
        "from past.builtins import xrange\n",
        "\n",
        "\n",
        "class LinearClassifier(object):\n",
        "\n",
        "    def __init__(self):\n",
        "        self.W = None\n",
        "\n",
        "    def train(self, X, y, learning_rate=1e-3, reg=1e-5, num_iters=100,\n",
        "              batch_size=200, verbose=False):\n",
        "        \"\"\"\n",
        "        Train this linear classifier using stochastic gradient descent.\n",
        "\n",
        "        Inputs:\n",
        "        - X: A numpy array of shape (N, D) containing training data; there are N\n",
        "          training samples each of dimension D.\n",
        "        - y: A numpy array of shape (N,) containing training labels; y[i] = c\n",
        "          means that X[i] has label 0 <= c < C for C classes.\n",
        "        - learning_rate: (float) learning rate for optimization.\n",
        "        - reg: (float) regularization strength.\n",
        "        - num_iters: (integer) number of steps to take when optimizing\n",
        "        - batch_size: (integer) number of training examples to use at each step.\n",
        "        - verbose: (boolean) If true, print progress during optimization.\n",
        "\n",
        "        Outputs:\n",
        "        A list containing the value of the loss function at each training iteration.\n",
        "        \"\"\"\n",
        "        num_train, dim = X.shape\n",
        "        num_classes = np.max(y) + 1 # assume y takes values 0...K-1 where K is number of classes\n",
        "        if self.W is None:\n",
        "            # lazily initialize W\n",
        "            self.W = 0.001 * np.random.randn(dim, num_classes)\n",
        "\n",
        "        # Run stochastic gradient descent to optimize W\n",
        "        loss_history = []\n",
        "        for it in range(num_iters):\n",
        "            X_batch = None\n",
        "            y_batch = None\n",
        "\n",
        "            #########################################################################\n",
        "            # TODO:                                                                 #\n",
        "            # Sample batch_size elements from the training data and their           #\n",
        "            # corresponding labels to use in this round of gradient descent.        #\n",
        "            # Store the data in X_batch and their corresponding labels in           #\n",
        "            # y_batch; after sampling X_batch should have shape (batch_size, dim)   #\n",
        "            # and y_batch should have shape (batch_size,)                           #\n",
        "            #                                                                       #\n",
        "            # Hint: Use np.random.choice to generate indices. Sampling with         #\n",
        "            # replacement is faster than sampling without replacement.              #\n",
        "            #########################################################################\n",
        "            # *****START OF YOUR CODE (DO NOT DELETE/MODIFY THIS LINE)*****\n",
        "            indices = np.random.choice(range(num_train),size=batch_size)\n",
        "            X_batch = X[indices]\n",
        "            y_batch = y[indices]\n",
        "            pass\n",
        "\n",
        "            # *****END OF YOUR CODE (DO NOT DELETE/MODIFY THIS LINE)*****\n",
        "\n",
        "            # evaluate loss and gradient\n",
        "            loss, grad = self.loss(X_batch, y_batch, reg)\n",
        "            loss_history.append(loss)\n",
        "\n",
        "            # perform parameter update\n",
        "            #########################################################################\n",
        "            # TODO:                                                                 #\n",
        "            # Update the weights using the gradient and the learning rate.          #\n",
        "            #########################################################################\n",
        "            # *****START OF YOUR CODE (DO NOT DELETE/MODIFY THIS LINE)*****\n",
        "            self.W -= learning_rate * grad\n",
        "            pass\n",
        "\n",
        "            # *****END OF YOUR CODE (DO NOT DELETE/MODIFY THIS LINE)*****\n",
        "\n",
        "            if verbose and it % 100 == 0:\n",
        "                print('iteration %d / %d: loss %f' % (it, num_iters, loss))\n",
        "\n",
        "        return loss_history\n",
        "\n",
        "    def predict(self, X):\n",
        "        \"\"\"\n",
        "        Use the trained weights of this linear classifier to predict labels for\n",
        "        data points.\n",
        "\n",
        "        Inputs:\n",
        "        - X: A numpy array of shape (N, D) containing training data; there are N\n",
        "          training samples each of dimension D.\n",
        "\n",
        "        Returns:\n",
        "        - y_pred: Predicted labels for the data in X. y_pred is a 1-dimensional\n",
        "          array of length N, and each element is an integer giving the predicted\n",
        "          class.\n",
        "        \"\"\"\n",
        "        y_pred = np.zeros(X.shape[0])\n",
        "        ###########################################################################\n",
        "        # TODO:                                                                   #\n",
        "        # Implement this method. Store the predicted labels in y_pred.            #\n",
        "        ###########################################################################\n",
        "        # *****START OF YOUR CODE (DO NOT DELETE/MODIFY THIS LINE)*****\n",
        "        y_pred = np.argmax(X.dot(self.W), axis=1)\n",
        "        pass\n",
        "\n",
        "        # *****END OF YOUR CODE (DO NOT DELETE/MODIFY THIS LINE)*****\n",
        "        return y_pred\n",
        "\n",
        "    def loss(self, X_batch, y_batch, reg):\n",
        "        \"\"\"\n",
        "        Compute the loss function and its derivative.\n",
        "        Subclasses will override this.\n",
        "\n",
        "        Inputs:\n",
        "        - X_batch: A numpy array of shape (N, D) containing a minibatch of N\n",
        "          data points; each point has dimension D.\n",
        "        - y_batch: A numpy array of shape (N,) containing labels for the minibatch.\n",
        "        - reg: (float) regularization strength.\n",
        "\n",
        "        Returns: A tuple containing:\n",
        "        - loss as a single float\n",
        "        - gradient with respect to self.W; an array of the same shape as W\n",
        "        \"\"\"\n",
        "        pass\n",
        "\n",
        "\n",
        "class LinearSVM(LinearClassifier):\n",
        "    \"\"\" A subclass that uses the Multiclass SVM loss function \"\"\"\n",
        "\n",
        "    def loss(self, X_batch, y_batch, reg):\n",
        "        return svm_loss_vectorized(self.W, X_batch, y_batch, reg)\n",
        "\n",
        "\n",
        "class Softmax(LinearClassifier):\n",
        "    \"\"\" A subclass that uses the Softmax + Cross-entropy loss function \"\"\"\n",
        "\n",
        "    def loss(self, X_batch, y_batch, reg):\n",
        "        return softmax_loss_vectorized(self.W, X_batch, y_batch, reg)"
      ],
      "execution_count": null,
      "outputs": [
        {
          "output_type": "stream",
          "text": [
            "Overwriting cs231n/classifiers/linear_classifier.py\n"
          ],
          "name": "stdout"
        }
      ]
    },
    {
      "cell_type": "code",
      "metadata": {
        "id": "sgd",
        "colab": {
          "base_uri": "https://localhost:8080/"
        },
        "outputId": "93813e1f-7461-43fc-ba66-b076cb3eb386"
      },
      "source": [
        "# In the file linear_classifier.py, implement SGD in the function\n",
        "# LinearClassifier.train() and then run it with the code below.\n",
        "from cs231n.classifiers import LinearSVM\n",
        "svm = LinearSVM()\n",
        "tic = time.time()\n",
        "loss_hist = svm.train(X_train, y_train, learning_rate=1e-7, reg=2.5e4,\n",
        "                      num_iters=1500, verbose=True)\n",
        "toc = time.time()\n",
        "print('That took %fs' % (toc - tic))"
      ],
      "execution_count": null,
      "outputs": [
        {
          "output_type": "stream",
          "text": [
            "iteration 0 / 1500: loss 1562.018022\n",
            "iteration 100 / 1500: loss 570.998550\n",
            "iteration 200 / 1500: loss 211.315541\n",
            "iteration 300 / 1500: loss 80.419441\n",
            "iteration 400 / 1500: loss 32.860066\n",
            "iteration 500 / 1500: loss 15.499894\n",
            "iteration 600 / 1500: loss 9.195760\n",
            "iteration 700 / 1500: loss 6.928765\n",
            "iteration 800 / 1500: loss 6.521796\n",
            "iteration 900 / 1500: loss 5.833801\n",
            "iteration 1000 / 1500: loss 5.977058\n",
            "iteration 1100 / 1500: loss 5.673009\n",
            "iteration 1200 / 1500: loss 5.828932\n",
            "iteration 1300 / 1500: loss 5.378645\n",
            "iteration 1400 / 1500: loss 6.067760\n",
            "That took 30.036081s\n"
          ],
          "name": "stdout"
        }
      ]
    },
    {
      "cell_type": "code",
      "metadata": {
        "id": "79o1BJIskG2e",
        "colab": {
          "base_uri": "https://localhost:8080/",
          "height": 497
        },
        "outputId": "4bec20cd-45e5-4dd4-c6dd-269e5189afcf"
      },
      "source": [
        "# A useful debugging strategy is to plot the loss as a function of\n",
        "# iteration number:\n",
        "plt.plot(loss_hist)\n",
        "plt.xlabel('Iteration number')\n",
        "plt.ylabel('Loss value')\n",
        "plt.show()"
      ],
      "execution_count": null,
      "outputs": [
        {
          "output_type": "display_data",
          "data": {
            "image/png": "[encoded data removed]",
            "text/plain": [
              "<Figure size 720x576 with 1 Axes>"
            ]
          },
          "metadata": {
            "tags": [],
            "needs_background": "light"
          }
        }
      ]
    },
    {
      "cell_type": "code",
      "metadata": {
        "id": "validate",
        "colab": {
          "base_uri": "https://localhost:8080/"
        },
        "outputId": "9ea1d8e5-867f-4e90-a394-3d64301cb1f7"
      },
      "source": [
        "# Write the LinearSVM.predict function and evaluate the performance on both the\n",
        "# training and validation set\n",
        "y_train_pred = svm.predict(X_train)\n",
        "print('training accuracy: %f' % (np.mean(y_train == y_train_pred), ))\n",
        "y_val_pred = svm.predict(X_val)\n",
        "print('validation accuracy: %f' % (np.mean(y_val == y_val_pred), ))"
      ],
      "execution_count": null,
      "outputs": [
        {
          "output_type": "stream",
          "text": [
            "training accuracy: 0.366408\n",
            "validation accuracy: 0.373000\n"
          ],
          "name": "stdout"
        }
      ]
    },
    {
      "cell_type": "code",
      "metadata": {
        "id": "tuning",
        "tags": [
          "code"
        ],
        "colab": {
          "base_uri": "https://localhost:8080/",
          "height": 1000,
          "referenced_widgets": [
            "cd10139d4f24485c8ba35579ad253d6f",
            "a8f31d0210da4814bf80736f794499b6",
            "dfba0fcdec6148aab04002360a516f26",
            "2a521a4f388142c788c56160fae0ddf8",
            "92e7517427f7458290ea5b29ba785260",
            "e986017a0dda4f30810bbf86c482a111",
            "e65629c47b4f41bd867863688f6665c8",
            "40c3f7fb8d8c426d9fd39b24b6cc2bb0",
            "d57241ff184c488f8c5798e2d531dbc7",
            "f6993ae0720048909e47e30b615611ce",
            "fd40215feda645289d3173dc20acdc60",
            "0aa3069cedce4df983eae6e8f7e9a875",
            "2119f9d6489a49ab90f9df7e8428249e",
            "8ffc3236ff38444caa94b91fc0252c84",
            "2abd3f85f835429db025a3c1ce1d04c5",
            "a9977c327b944e03824382ebdb7872a4",
            "53ee2ed571ca4490877b76930d3f6fb1",
            "5cf451a5c3c649c593a7445933fd040c",
            "2031bf85bed34505897f8cd0ad2ec663",
            "d50c256bb4424a989ce83b004a06ce78",
            "8610d6f5a0db48a8a6fa647bdf1ad757",
            "3e2ce7aa89644103ac21161aba5e5781",
            "225b94bb233445ba9d35137cc9bf31a7",
            "ca3316956cab44caad71b271b122adcd"
          ]
        },
        "outputId": "90146c0f-51a8-4cd2-9dda-4a27852cfb69"
      },
      "source": [
        "# Use the validation set to tune hyperparameters (regularization strength and\n",
        "# learning rate). You should experiment with different ranges for the learning\n",
        "# rates and regularization strengths; if you are careful you should be able to\n",
        "# get a classification accuracy of about 0.39 on the validation set.\n",
        "\n",
        "# Note: you may see runtime/overflow warnings during hyper-parameter search. \n",
        "# This may be caused by extreme values, and is not a bug.\n",
        "\n",
        "# results is dictionary mapping tuples of the form\n",
        "# (learning_rate, regularization_strength) to tuples of the form\n",
        "# (training_accuracy, validation_accuracy). The accuracy is simply the fraction\n",
        "# of data points that are correctly classified.\n",
        "results = {}\n",
        "best_val = -1   # The highest validation accuracy that we have seen so far.\n",
        "best_svm = None # The LinearSVM object that achieved the highest validation rate.\n",
        "\n",
        "################################################################################\n",
        "# TODO:                                                                        #\n",
        "# Write code that chooses the best hyperparameters by tuning on the validation #\n",
        "# set. For each combination of hyperparameters, train a linear SVM on the      #\n",
        "# training set, compute its accuracy on the training and validation sets, and  #\n",
        "# store these numbers in the results dictionary. In addition, store the best   #\n",
        "# validation accuracy in best_val and the LinearSVM object that achieves this  #\n",
        "# accuracy in best_svm.                                                        #\n",
        "#                                                                              #\n",
        "# Hint: You should use a small value for num_iters as you develop your         #\n",
        "# validation code so that the SVMs don't take much time to train; once you are #\n",
        "# confident that your validation code works, you should rerun the validation   #\n",
        "# code with a larger value for num_iters.                                      #\n",
        "################################################################################\n",
        "\n",
        "# Provided as a reference. You may or may not want to change these hyperparameters\n",
        "learning_rates = [1e-7, 5e-5]\n",
        "regularization_strengths = [2.5e4, 5e4]\n",
        "from tqdm.notebook import tqdm\n",
        "from cs231n.classifiers import LinearSVM\n",
        "\n",
        "# *****START OF YOUR CODE (DO NOT DELETE/MODIFY THIS LINE)*****\n",
        "for rate in tqdm(learning_rates):\n",
        "  for reg in tqdm(regularization_strengths):\n",
        "    svm = LinearSVM()\n",
        "    loss_hist = svm.train(X_train, y_train, learning_rate=rate, reg=reg,\n",
        "                      num_iters=1500, verbose=True)\n",
        "\n",
        "    y_train_pred = svm.predict(X_train)\n",
        "    acc_train = np.sum(y_train == y_train_pred) / len(y_train)\n",
        "    y_val_pred = svm.predict(X_val)\n",
        "    acc_val = np.sum(y_val == y_val_pred) / len(y_val)\n",
        "    results.update({(rate,reg): (acc_train, acc_val)})\n",
        "    if best_val < acc_val:\n",
        "        best_val = acc_val\n",
        "        best_svm = svm\n",
        "# *****END OF YOUR CODE (DO NOT DELETE/MODIFY THIS LINE)*****\n",
        "\n",
        "\n",
        "# Print out results.\n",
        "for lr, reg in sorted(results):\n",
        "    train_accuracy, val_accuracy = results[(lr, reg)]\n",
        "    print('lr %e reg %e train accuracy: %f val accuracy: %f' % (\n",
        "                lr, reg, train_accuracy, val_accuracy))\n",
        "    \n",
        "print('best validation accuracy achieved during cross-validation: %f' % best_val)"
      ],
      "execution_count": null,
      "outputs": [
        {
          "output_type": "display_data",
          "data": {
            "application/vnd.jupyter.widget-view+json": {
              "model_id": "cd10139d4f24485c8ba35579ad253d6f",
              "version_minor": 0,
              "version_major": 2
            },
            "text/plain": [
              "HBox(children=(FloatProgress(value=0.0, max=2.0), HTML(value='')))"
            ]
          },
          "metadata": {
            "tags": []
          }
        },
        {
          "output_type": "display_data",
          "data": {
            "application/vnd.jupyter.widget-view+json": {
              "model_id": "d57241ff184c488f8c5798e2d531dbc7",
              "version_minor": 0,
              "version_major": 2
            },
            "text/plain": [
              "HBox(children=(FloatProgress(value=0.0, max=2.0), HTML(value='')))"
            ]
          },
          "metadata": {
            "tags": []
          }
        },
        {
          "output_type": "stream",
          "text": [
            "iteration 0 / 1500: loss 1560.951392\n",
            "iteration 100 / 1500: loss 569.401297\n",
            "iteration 200 / 1500: loss 211.545204\n",
            "iteration 300 / 1500: loss 80.322228\n",
            "iteration 400 / 1500: loss 33.160623\n",
            "iteration 500 / 1500: loss 15.679597\n",
            "iteration 600 / 1500: loss 9.292858\n",
            "iteration 700 / 1500: loss 7.297568\n",
            "iteration 800 / 1500: loss 6.164276\n",
            "iteration 900 / 1500: loss 6.240867\n",
            "iteration 1000 / 1500: loss 5.702861\n",
            "iteration 1100 / 1500: loss 5.825825\n",
            "iteration 1200 / 1500: loss 6.413675\n",
            "iteration 1300 / 1500: loss 5.580736\n",
            "iteration 1400 / 1500: loss 6.292557\n",
            "iteration 0 / 1500: loss 3076.480062\n",
            "iteration 100 / 1500: loss 412.585765\n",
            "iteration 200 / 1500: loss 60.179745\n",
            "iteration 300 / 1500: loss 13.468620\n",
            "iteration 400 / 1500: loss 7.006814\n",
            "iteration 500 / 1500: loss 6.428215\n",
            "iteration 600 / 1500: loss 6.835090\n",
            "iteration 700 / 1500: loss 6.343367\n",
            "iteration 800 / 1500: loss 6.331884\n",
            "iteration 900 / 1500: loss 6.232408\n",
            "iteration 1000 / 1500: loss 6.127105\n",
            "iteration 1100 / 1500: loss 6.035206\n",
            "iteration 1200 / 1500: loss 5.966565\n",
            "iteration 1300 / 1500: loss 6.436087\n",
            "iteration 1400 / 1500: loss 5.762503\n",
            "\n"
          ],
          "name": "stdout"
        },
        {
          "output_type": "display_data",
          "data": {
            "application/vnd.jupyter.widget-view+json": {
              "model_id": "53ee2ed571ca4490877b76930d3f6fb1",
              "version_minor": 0,
              "version_major": 2
            },
            "text/plain": [
              "HBox(children=(FloatProgress(value=0.0, max=2.0), HTML(value='')))"
            ]
          },
          "metadata": {
            "tags": []
          }
        },
        {
          "output_type": "stream",
          "text": [
            "iteration 0 / 1500: loss 1580.579691\n",
            "iteration 100 / 1500: loss 720918899171795714694732586990799159296.000000\n",
            "iteration 200 / 1500: loss 119162120250459689790765219922595107119119403533517221566889481734646136832.000000\n",
            "iteration 300 / 1500: loss 19696544117372667308145421877669600921641081182154731926799399225060736026792656580465791106398127416959565824.000000\n",
            "iteration 400 / 1500: loss 3255680994532415405447598296597428377309490072196740207131300041266754578702659161744021965089170149575190289597064574341880047227663560596258816.000000\n",
            "iteration 500 / 1500: loss 538137993903747113390514022598579420594154200074106491163789029266962497490633563256458515164301188420897895891844636986617439066484664855775273912465021137667508591674816460750848.000000\n",
            "iteration 600 / 1500: loss 88949900487514116306858276335321186280735873805282151269454117658449242641691662455415116380836437534418052328838251565457143977443555502363418772604725243213949070319495766459884859169550690594571725061820895985664.000000\n",
            "iteration 700 / 1500: loss 14702706157844416021758919680599323241830398006662623519649968526760531219491062051474128928470361413474188997435685969301813574238393667183202590897764308844964356430045263773348023666680562818731557679515379552852878468021092163007846874555206336512.000000\n",
            "iteration 800 / 1500: loss 2430239575076981745479817500387633497431858568969459770484507740287821732394728899429648561282653538584373145292888666961313531102768858891186925769008122116858012917865511597137152087632939429830269974044612032805048832692241013001309246750002465646451622004457698577264894088738504704.000000\n"
          ],
          "name": "stdout"
        },
        {
          "output_type": "stream",
          "text": [
            "/content/cs231n/classifiers/linear_svm.py:91: RuntimeWarning: overflow encountered in double_scalars\n",
            "  loss += 2 * reg * np.sum(W * W)\n",
            "/usr/local/lib/python3.7/dist-packages/numpy/core/fromnumeric.py:87: RuntimeWarning: overflow encountered in reduce\n",
            "  return ufunc.reduce(obj, axis, dtype, out, **passkwargs)\n",
            "/content/cs231n/classifiers/linear_svm.py:91: RuntimeWarning: overflow encountered in multiply\n",
            "  loss += 2 * reg * np.sum(W * W)\n"
          ],
          "name": "stderr"
        },
        {
          "output_type": "stream",
          "text": [
            "iteration 900 / 1500: loss inf\n",
            "iteration 1000 / 1500: loss inf\n",
            "iteration 1100 / 1500: loss inf\n",
            "iteration 1200 / 1500: loss inf\n",
            "iteration 1300 / 1500: loss inf\n",
            "iteration 1400 / 1500: loss inf\n",
            "iteration 0 / 1500: loss 3059.396043\n",
            "iteration 100 / 1500: loss 8382483569545821908051158304056773150380993630117736538181973004932586348517287214181977406961234585211639631504518286409728.000000\n",
            "iteration 200 / 1500: loss 21645667175525212962317973183548650189736875117709376594592697456941856229396474385233498273823389958538821625593241405160825548932586335205777301362301875942791462203809093704368357669422433019347723305183926097674531098495123170905758501961728.000000\n",
            "iteration 300 / 1500: loss inf\n",
            "iteration 400 / 1500: loss inf\n",
            "iteration 500 / 1500: loss inf\n"
          ],
          "name": "stdout"
        },
        {
          "output_type": "stream",
          "text": [
            "/content/cs231n/classifiers/linear_svm.py:111: RuntimeWarning: overflow encountered in multiply\n",
            "  dW += 2 * reg * W\n"
          ],
          "name": "stderr"
        },
        {
          "output_type": "stream",
          "text": [
            "iteration 600 / 1500: loss nan\n",
            "iteration 700 / 1500: loss nan\n",
            "iteration 800 / 1500: loss nan\n",
            "iteration 900 / 1500: loss nan\n",
            "iteration 1000 / 1500: loss nan\n",
            "iteration 1100 / 1500: loss nan\n",
            "iteration 1200 / 1500: loss nan\n",
            "iteration 1300 / 1500: loss nan\n",
            "iteration 1400 / 1500: loss nan\n",
            "\n",
            "\n",
            "lr 1.000000e-07 reg 2.500000e+04 train accuracy: 0.371694 val accuracy: 0.382000\n",
            "lr 1.000000e-07 reg 5.000000e+04 train accuracy: 0.357204 val accuracy: 0.357000\n",
            "lr 5.000000e-05 reg 2.500000e+04 train accuracy: 0.072204 val accuracy: 0.075000\n",
            "lr 5.000000e-05 reg 5.000000e+04 train accuracy: 0.100265 val accuracy: 0.087000\n",
            "best validation accuracy achieved during cross-validation: 0.382000\n"
          ],
          "name": "stdout"
        }
      ]
    },
    {
      "cell_type": "code",
      "metadata": {
        "tags": [
          "pdf-ignore-input"
        ],
        "id": "_azH9T1_kG2g",
        "colab": {
          "base_uri": "https://localhost:8080/",
          "height": 590
        },
        "outputId": "47ef345f-6147-4d2c-df0c-ec0529ec1e62"
      },
      "source": [
        "# Visualize the cross-validation results\n",
        "import math\n",
        "import pdb\n",
        "\n",
        "# pdb.set_trace()\n",
        "\n",
        "x_scatter = [math.log10(x[0]) for x in results]\n",
        "y_scatter = [math.log10(x[1]) for x in results]\n",
        "\n",
        "# plot training accuracy\n",
        "marker_size = 100\n",
        "colors = [results[x][0] for x in results]\n",
        "plt.subplot(2, 1, 1)\n",
        "plt.tight_layout(pad=3)\n",
        "plt.scatter(x_scatter, y_scatter, marker_size, c=colors, cmap=plt.cm.coolwarm)\n",
        "plt.colorbar()\n",
        "plt.xlabel('log learning rate')\n",
        "plt.ylabel('log regularization strength')\n",
        "plt.title('CIFAR-10 training accuracy')\n",
        "\n",
        "# plot validation accuracy\n",
        "colors = [results[x][1] for x in results] # default size of markers is 20\n",
        "plt.subplot(2, 1, 2)\n",
        "plt.scatter(x_scatter, y_scatter, marker_size, c=colors, cmap=plt.cm.coolwarm)\n",
        "plt.colorbar()\n",
        "plt.xlabel('log learning rate')\n",
        "plt.ylabel('log regularization strength')\n",
        "plt.title('CIFAR-10 validation accuracy')\n",
        "plt.show()"
      ],
      "execution_count": null,
      "outputs": [
        {
          "output_type": "display_data",
          "data": {
            "image/png": "[encoded data removed]",
            "text/plain": [
              "<Figure size 720x576 with 4 Axes>"
            ]
          },
          "metadata": {
            "tags": [],
            "needs_background": "light"
          }
        }
      ]
    },
    {
      "cell_type": "code",
      "metadata": {
        "id": "test",
        "colab": {
          "base_uri": "https://localhost:8080/"
        },
        "outputId": "5428db98-1184-480b-f82a-8647d9a3f6e5"
      },
      "source": [
        "# Evaluate the best svm on test set\n",
        "y_test_pred = best_svm.predict(X_test)\n",
        "test_accuracy = np.mean(y_test == y_test_pred)\n",
        "print('linear SVM on raw pixels final test set accuracy: %f' % test_accuracy)"
      ],
      "execution_count": null,
      "outputs": [
        {
          "output_type": "stream",
          "text": [
            "linear SVM on raw pixels final test set accuracy: 0.372000\n"
          ],
          "name": "stdout"
        }
      ]
    },
    {
      "cell_type": "code",
      "metadata": {
        "tags": [
          "pdf-ignore-input"
        ],
        "id": "qisV416JkG2g",
        "colab": {
          "base_uri": "https://localhost:8080/",
          "height": 380
        },
        "outputId": "96ef6aaa-8b87-407d-dea1-3d2c4615df08"
      },
      "source": [
        "# Visualize the learned weights for each class.\n",
        "# Depending on your choice of learning rate and regularization strength, these may\n",
        "# or may not be nice to look at.\n",
        "w = best_svm.W[:-1,:] # strip out the bias\n",
        "w = w.reshape(32, 32, 3, 10)\n",
        "w_min, w_max = np.min(w), np.max(w)\n",
        "classes = ['plane', 'car', 'bird', 'cat', 'deer', 'dog', 'frog', 'horse', 'ship', 'truck']\n",
        "for i in range(10):\n",
        "    plt.subplot(2, 5, i + 1)\n",
        "      \n",
        "    # Rescale the weights to be between 0 and 255\n",
        "    wimg = 255.0 * (w[:, :, :, i].squeeze() - w_min) / (w_max - w_min)\n",
        "    plt.imshow(wimg.astype('uint8'))\n",
        "    plt.axis('off')\n",
        "    plt.title(classes[i])"
      ],
      "execution_count": null,
      "outputs": [
        {
          "output_type": "display_data",
          "data": {
            "image/png": "[encoded data removed]",
            "text/plain": [
              "<Figure size 720x576 with 10 Axes>"
            ]
          },
          "metadata": {
            "tags": [],
            "needs_background": "light"
          }
        }
      ]
    },
    {
      "cell_type": "markdown",
      "metadata": {
        "tags": [
          "pdf-inline"
        ],
        "id": "Ic7rxD1dkG2g"
      },
      "source": [
        "**Inline question 2**\n",
        "\n",
        "Describe what your visualized SVM weights look like, and offer a brief explanation for why they look they way that they do.\n",
        "\n",
        "$\\color{blue}{\\textit Your Answer:}$ *fill this in*  \n"
      ]
    },
    {
      "cell_type": "markdown",
      "metadata": {
        "id": "slSdxlTlkG2g"
      },
      "source": [
        "---\n",
        "# IMPORTANT\n",
        "\n",
        "This is the end of this question. Please do the following:\n",
        "\n",
        "1. Click `File -> Save` to make sure the latest checkpoint of this notebook is saved to your Drive.\n",
        "2. Execute the cell below to download the modified `.py` files back to your drive."
      ]
    },
    {
      "cell_type": "code",
      "metadata": {
        "id": "xoDx7enwkG2h"
      },
      "source": [
        "import os\n",
        "\n",
        "FOLDER_TO_SAVE = os.path.join('drive/My Drive/', FOLDERNAME)\n",
        "FILES_TO_SAVE = ['cs231n/classifiers/linear_svm.py', 'cs231n/classifiers/linear_classifier.py']\n",
        "\n",
        "for files in FILES_TO_SAVE:\n",
        "  with open(os.path.join(FOLDER_TO_SAVE, '/'.join(files.split('/')[1:])), 'w') as f:\n",
        "    f.write(''.join(open(files).readlines()))"
      ],
      "execution_count": null,
      "outputs": []
    }
  ]
}